{
 "cells": [
  {
   "cell_type": "markdown",
   "metadata": {},
   "source": [
    "# Concrete slab base - Check shear capacity of the slab "
   ]
  },
  {
   "cell_type": "code",
   "execution_count": 189,
   "metadata": {
    "hide_input": false
   },
   "outputs": [],
   "source": [
    "#import sympy as sp\n",
    "#import matplotlib.pyplot as plt\n",
    "import math"
   ]
  },
  {
   "cell_type": "markdown",
   "metadata": {},
   "source": [
    "Check of punching shear capacity of a slab with one layer of reinforcement. Based on 6.2.2 of EN1992-1-1:2004 for concrete members."
   ]
  },
  {
   "cell_type": "code",
   "execution_count": 190,
   "metadata": {},
   "outputs": [
    {
     "data": {
      "application/vnd.jupyter.widget-view+json": {
       "model_id": "9cea58c81a714ab8bcfdf9f628537015",
       "version_major": 2,
       "version_minor": 0
      },
      "text/plain": [
       "VBox(children=(VBox(children=(HTML(value='<h3>Forces (factored)</h3>'), HBox(children=(Label(value='NSd_uplift…"
      ]
     },
     "metadata": {},
     "output_type": "display_data"
    },
    {
     "name": "stdout",
     "output_type": "stream",
     "text": [
      "Current values (assigned to global variables):\n",
      "NSd_uplift: 25.0 [kN] (factored uplift force)\n",
      "NSd_downwards: 10.0 [kN] (factored downwards force)\n",
      "fck: 35.0 [MPa] (concrete grade)\n",
      "slab_depth: 120.0 [mm] (overall slab depth)\n",
      "Area_reinforcement: 254.0 [mm^2] (area of reinforcement)\n",
      "Dist_reinforcement_from_btm: 50.0 [mm] (distance of reinforcement from bottom)\n"
     ]
    }
   ],
   "source": [
    "import ipywidgets as widgets\n",
    "from IPython.display import display\n",
    "\n",
    "# Global dictionary to store widget values for persistence\n",
    "if 'stored_values' not in globals():\n",
    "    stored_values = {}\n",
    "\n",
    "# Dictionary to store default values, units, and descriptions\n",
    "form_data = {\n",
    "    'NSd_uplift': {'value': 15.0, 'unit': '[kN]', 'description': 'factored uplift force'},\n",
    "    'NSd_downwards': {'value': 10.0, 'unit': '[kN]', 'description': 'factored downwards force'},\n",
    "    'fck': {'value': 25, 'unit': '[MPa]', 'description': 'concrete grade'},\n",
    "    'slab_depth': {'value': 150, 'unit': '[mm]', 'description': 'overall slab depth'},\n",
    "    'Area_reinforcement': {'value': 252, 'unit': '[mm^2]', 'description': 'area of reinforcement'},\n",
    "    'Dist_reinforcement_from_btm': {'value': 50, 'unit': '[mm]', 'description': 'distance of reinforcement from bottom'}\n",
    "}\n",
    "\n",
    "# Create widgets for each field\n",
    "widgets_dict = {}\n",
    "form_rows = []\n",
    "for key, data in form_data.items():\n",
    "    # Use stored value if available, otherwise use default\n",
    "    initial_value = stored_values.get(key, data['value'])\n",
    "    \n",
    "    # Create FloatText widget for numeric input\n",
    "    input_widget = widgets.FloatText(\n",
    "        value=initial_value,\n",
    "        layout={'width': '100px'}  # Fixed width for input field\n",
    "    )\n",
    "    widgets_dict[key] = input_widget\n",
    "    \n",
    "    # Adjust label width based on label length (approximate 10px per character)\n",
    "    label_width = f\"{len(key) * 10 + 20}px\"\n",
    "    label_widget = widgets.Label(\n",
    "        value=key,\n",
    "        layout={'width': label_width}\n",
    "    )\n",
    "    \n",
    "    # Unit label\n",
    "    unit_widget = widgets.Label(\n",
    "        value=data['unit'],\n",
    "        layout={'width': '50px'}\n",
    "    )\n",
    "    \n",
    "    # Description label\n",
    "    desc_widget = widgets.Label(\n",
    "        value=data['description'],\n",
    "        layout={'width': 'auto'}\n",
    "    )\n",
    "    \n",
    "    # Create HBox for the row: label, input, unit, description\n",
    "    row = widgets.HBox([\n",
    "        label_widget,\n",
    "        input_widget,\n",
    "        unit_widget,\n",
    "        desc_widget\n",
    "    ])\n",
    "    form_rows.append(row)\n",
    "    \n",
    "    # Define handler to update global variable and stored_values on change\n",
    "    def make_handler(k):\n",
    "        def update_global(change):\n",
    "            globals()[k] = change['new']\n",
    "            stored_values[k] = change['new']  # Store the new value\n",
    "        return update_global\n",
    "    input_widget.observe(make_handler(key), names='value')\n",
    "\n",
    "# Organize widgets into sections\n",
    "forces_box = widgets.VBox([\n",
    "    widgets.HTML(\"<h3>Forces (factored)</h3>\"),\n",
    "    form_rows[0],  # NSd_uplift\n",
    "    form_rows[1]   # NSd_downwards\n",
    "])\n",
    "\n",
    "slab_box = widgets.VBox([\n",
    "    widgets.HTML(\"<h3>Slab Data</h3>\"),\n",
    "    form_rows[2],  # fck\n",
    "    form_rows[3],  # slab_depth\n",
    "    form_rows[4],  # Area_reinforcement\n",
    "    form_rows[5]   # Dist_reinforcement_from_btm\n",
    "])\n",
    "\n",
    "# Display the form\n",
    "display(widgets.VBox([forces_box, slab_box]))\n",
    "\n",
    "# Assign initial values to global variables and print\n",
    "print(\"Current values (assigned to global variables):\")\n",
    "for key, widget in widgets_dict.items():\n",
    "    globals()[key] = widget.value\n",
    "    stored_values[key] = widget.value  # Ensure initial values are stored\n",
    "    print(f\"{key}: {widget.value} {form_data[key]['unit']} ({form_data[key]['description']})\")"
   ]
  },
  {
   "cell_type": "markdown",
   "metadata": {},
   "source": [
    "#### Shear Check"
   ]
  },
  {
   "cell_type": "code",
   "execution_count": 191,
   "metadata": {},
   "outputs": [],
   "source": [
    "# d...is the mean of the effective depths in the orthogonal directions, [mm]\n",
    "d = slab_depth - Dist_reinforcement_from_btm\n",
    "\n",
    "# bw...the smallest width of the cross-section in the tensile area, [mm]\n",
    "# distance assumed conservatively (given by distance of anchor from the edge of slab)\n",
    "bw = 300  \n",
    "\n",
    "gammaC = 1.5\n",
    "fcd = fck / gammaC\n",
    "k = min(2, 1 + (200 / (d)**(0.5)))\n",
    "nuMin = 0.035 * (k)**(1.5) * (fck)**(0.5)\n",
    "Asl = Area_reinforcement\n",
    "rho_l = min(Asl / bw / d, 0.02)\n",
    "\n",
    "NEd = 0   ##axial force in the cross-section due to loading or prestressing\n",
    "Ac = 1    ##cross-sectional area of concrete, not assigned as NEd is zero anyway\n",
    "sigma_cp = min(NEd / Ac, 0.2 * fcd)\n",
    "if NEd == 0:\n",
    "    sigma_cp = 0.2 * fcd\n",
    "k1 = 0.15\n",
    "CRdc = 0.18 / gammaC\n",
    "VRdc = (min((nuMin + k1 * sigma_cp) * bw * d, (CRdc * k * (100 * rho_l * fck)**(0.3333) + k1 * sigma_cp) * bw * d)) / 1000"
   ]
  },
  {
   "cell_type": "code",
   "execution_count": 192,
   "metadata": {
    "hide_input": false
   },
   "outputs": [
    {
     "name": "stdout",
     "output_type": "stream",
     "text": [
      "bw                       =  300.00 [mm]\n",
      "gammaC                   =  1.50 [-]\n",
      "fcd                      =  23.33 [-]\n",
      "k = min(2, 1 + (200 / (d)**(0.5)))\n",
      "k                        =  2.00 [-]\n",
      "rho_l = min(Asl / bw / d, 0.02)\n",
      "rho_l                    =  0.01 [-]\n",
      "sigma_cp                 =  4.67 [-]\n",
      "CRdc                     =  0.12 [-]\n",
      "VRdc                     =  27.00 [kN]\n"
     ]
    }
   ],
   "source": [
    "print(\"bw                       = \", (\"%2.2f\" % (bw)), \"[mm]\")\n",
    "print(\"gammaC                   = \", (\"%2.2f\" % (gammaC)), \"[-]\")\n",
    "print(\"fcd                      = \", (\"%2.2f\" % (fcd)), \"[-]\")\n",
    "print(\"k = min(2, 1 + (200 / (d)**(0.5)))\")\n",
    "print(\"k                        = \", (\"%2.2f\" % (k)), \"[-]\")\n",
    "print(\"rho_l = min(Asl / bw / d, 0.02)\")\n",
    "print(\"rho_l                    = \", (\"%2.2f\" % (rho_l)), \"[-]\")\n",
    "print(\"sigma_cp                 = \", (\"%2.2f\" % (sigma_cp)), \"[-]\")\n",
    "print(\"CRdc                     = \", (\"%2.2f\" % (CRdc)), \"[-]\")\n",
    "print(\"VRdc                     = \", (\"%2.2f\" % (VRdc)), \"[kN]\")"
   ]
  },
  {
   "cell_type": "code",
   "execution_count": 193,
   "metadata": {
    "hide_input": true
   },
   "outputs": [
    {
     "name": "stdout",
     "output_type": "stream",
     "text": [
      "UF                       =  0.93 [-]\n",
      "PASS\n"
     ]
    }
   ],
   "source": [
    "shear = max(NSd_downwards,NSd_uplift)\n",
    "UF = shear/VRdc\n",
    "print(\"UF                       = \", (\"%2.2f\" % (UF)), \"[-]\")\n",
    "if VRdc > NSd_uplift:\n",
    "    print(\"PASS\")\n",
    "else:\n",
    "    print(\"FAIL\")"
   ]
  }
 ],
 "metadata": {
  "hide_input": false,
  "kernelspec": {
   "display_name": "Python 3 (ipykernel)",
   "language": "python",
   "name": "python3"
  },
  "language_info": {
   "codemirror_mode": {
    "name": "ipython",
    "version": 3
   },
   "file_extension": ".py",
   "mimetype": "text/x-python",
   "name": "python",
   "nbconvert_exporter": "python",
   "pygments_lexer": "ipython3",
   "version": "3.13.2"
  },
  "varInspector": {
   "cols": {
    "lenName": 16,
    "lenType": 16,
    "lenVar": 40
   },
   "kernels_config": {
    "python": {
     "delete_cmd_postfix": "",
     "delete_cmd_prefix": "del ",
     "library": "var_list.py",
     "varRefreshCmd": "print(var_dic_list())"
    },
    "r": {
     "delete_cmd_postfix": ") ",
     "delete_cmd_prefix": "rm(",
     "library": "var_list.r",
     "varRefreshCmd": "cat(var_dic_list()) "
    }
   },
   "types_to_exclude": [
    "module",
    "function",
    "builtin_function_or_method",
    "instance",
    "_Feature"
   ],
   "window_display": false
  }
 },
 "nbformat": 4,
 "nbformat_minor": 4
}
