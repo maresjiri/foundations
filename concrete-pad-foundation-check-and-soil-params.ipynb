{
 "cells": [
  {
   "cell_type": "markdown",
   "id": "4134b3f9",
   "metadata": {},
   "source": [
    "# Concrete Pad Foundation Check"
   ]
  },
  {
   "cell_type": "code",
   "execution_count": 213,
   "id": "5e0b852b",
   "metadata": {},
   "outputs": [],
   "source": [
    "import math"
   ]
  },
  {
   "cell_type": "code",
   "execution_count": 214,
   "id": "2305d9f1-8056-4ad3-9737-223ab6c897c7",
   "metadata": {},
   "outputs": [
    {
     "data": {
      "application/vnd.jupyter.widget-view+json": {
       "model_id": "c0b7b395dd044dd3ae2dfbb17b4e68a5",
       "version_major": 2,
       "version_minor": 0
      },
      "text/plain": [
       "VBox(children=(VBox(children=(HTML(value='<h3>Column and Pad Dimensions</h3>'), HBox(children=(Label(value='co…"
      ]
     },
     "metadata": {},
     "output_type": "display_data"
    }
   ],
   "source": [
    "import ipywidgets as widgets\n",
    "from IPython.display import display, clear_output\n",
    "\n",
    "# Global dictionary to store widget values (persists user entries)\n",
    "try:\n",
    "    widget_values\n",
    "except NameError:\n",
    "    widget_values = {}\n",
    "\n",
    "# Define the form data based on the provided text\n",
    "form_data = [\n",
    "    {\"name\": \"column_depth\", \"value\": 0.400, \"unit\": \"[m], depth of column\", \"type\": \"float\"},\n",
    "    {\"name\": \"pad_width_x\", \"value\": 1.2, \"unit\": \"[m], horizontal dimension of concrete pad (cross)\", \"type\": \"float\"},\n",
    "    {\"name\": \"pad_width_y\", \"value\": 1.2, \"unit\": \"[m], horizontal dimension of concrete pad (longitudinal)\", \"type\": \"float\"},\n",
    "    {\"name\": \"pad_depth\", \"value\": 1.5, \"unit\": \"[m], depth of pad (ignoring slab)\", \"type\": \"float\"},\n",
    "    {\"name\": \"dist_from_edge_x_direction\", \"value\": 0.4, \"unit\": \"[m], distance of column axis from the edge\", \"type\": \"float\"},\n",
    "    {\"name\": \"dist_from_edge_y_direction\", \"value\": 0.4, \"unit\": \"[m], distance of column axis from the edge\", \"type\": \"float\"},\n",
    "    {\"name\": \"slab_engaged_rotation\", \"value\": True, \"unit\": \"\", \"type\": \"bool\"},\n",
    "    {\"name\": \"slab_engaged_uplift\", \"value\": True, \"unit\": \"\", \"type\": \"bool\"},\n",
    "    {\"name\": \"Rz_down\", \"value\": 50.0, \"unit\": \"[kN] from frame analysis\", \"type\": \"float\"},\n",
    "    {\"name\": \"Rz_uplift\", \"value\": 40.0, \"unit\": \"[kN] from frame analysis\", \"type\": \"float\"},\n",
    "    {\"name\": \"Rx_plus\", \"value\": 30.0, \"unit\": \"[kN] from frame analysis\", \"type\": \"float\"},\n",
    "    {\"name\": \"Rx_minus\", \"value\": 30.0, \"unit\": \"[kN] from frame analysis\", \"type\": \"float\"},\n",
    "    {\"name\": \"Ry_plus_lngtnl_bracing\", \"value\": 35.0, \"unit\": \"[kN] from frame analysis\", \"type\": \"float\"},\n",
    "    {\"name\": \"Ry_minus_lngtnl_bracing\", \"value\": 35.0, \"unit\": \"[kN] from frame analysis\", \"type\": \"float\"},\n",
    "    {\"name\": \"Rz_uplift_bracing\", \"value\": 20.0, \"unit\": \"[kN] from frame analysis\", \"type\": \"float\"},\n",
    "    {\"name\": \"My_plus\", \"value\": 50.0, \"unit\": \"[kNm] from frame analysis\", \"type\": \"float\"},\n",
    "    {\"name\": \"My_minus\", \"value\": 0.00, \"unit\": \"[kNm] from frame analysis\", \"type\": \"float\"},\n",
    "    {\"name\": \"Mx_plus\", \"value\": 0.00, \"unit\": \"[kNm] from frame analysis\", \"type\": \"float\"},\n",
    "    {\"name\": \"Mx_minus\", \"value\": 0.00, \"unit\": \"[kNm] from frame analysis\", \"type\": \"float\"},\n",
    "    {\"name\": \"gamma_1\", \"value\": 20.0, \"unit\": \"[kN/m^2]\", \"type\": \"float\"},\n",
    "    {\"name\": \"gamma_2\", \"value\": 20.0, \"unit\": \"[kN/m^2]\", \"type\": \"float\"},\n",
    "    {\"name\": \"phi_deg\", \"value\": 18.0, \"unit\": \"[deg]\", \"type\": \"float\"},\n",
    "    {\"name\": \"c\", \"value\": 18.00, \"unit\": \"\", \"type\": \"float\"},\n",
    "    {\"name\": \"c_coeff\", \"value\": 2.0, \"unit\": \"\", \"type\": \"float\"},\n",
    "    {\"name\": \"delta_deg\", \"value\": 0, \"unit\": \"[deg]\", \"type\": \"float\"},\n",
    "    {\"name\": \"frame_span\", \"value\": 14.0, \"unit\": \"[m]\", \"type\": \"float\"},\n",
    "    {\"name\": \"frame_spacing\", \"value\": 5.0, \"unit\": \"[m]\", \"type\": \"float\"},\n",
    "    {\"name\": \"slab_percentage\", \"value\": 0.7, \"unit\": \"\", \"type\": \"float\"},\n",
    "    {\"name\": \"slab_thickness\", \"value\": 0.15, \"unit\": \"[m]\", \"type\": \"float\"},\n",
    "    {\"name\": \"slab_reinf_dist_top\", \"value\": 0.05, \"unit\": \"[m], axial distance of reinforcement from the top of the slab\", \"type\": \"float\"},\n",
    "    {\"name\": \"slab_reinf_dist_btm\", \"value\": 0.05, \"unit\": \"[m], axial distance of reinforcement from the btm of the slab\", \"type\": \"float\"},\n",
    "    {\"name\": \"slab_reinforcement_area_top\", \"value\": 786.0, \"unit\": \"[mm^2/m]\", \"type\": \"int\"},\n",
    "    {\"name\": \"slab_reinforcement_area_btm\", \"value\": 786.0, \"unit\": \"[mm^2/m]\", \"type\": \"int\"},\n",
    "    {\"name\": \"slab_reinforcement_fy\", \"value\": 355000.0, \"unit\": \"[kPa]\", \"type\": \"float\"},\n",
    "    {\"name\": \"slab_concrete_grade\", \"value\": 25000.0, \"unit\": \"[kPa]\", \"type\": \"float\"},\n",
    "    {\"name\": \"concrete_density\", \"value\": 24.0, \"unit\": \"\", \"type\": \"float\"},\n",
    "]\n",
    "\n",
    "# Create widgets for each variable\n",
    "widgets_dict = {}\n",
    "output = widgets.Output()\n",
    "\n",
    "# Function to sync widget values to global variables, store values, and validate\n",
    "def sync_globals(change):\n",
    "    widget_name = None\n",
    "    for item in form_data:\n",
    "        if widgets_dict[item[\"name\"]] is change[\"owner\"]:\n",
    "            widget_name = item[\"name\"]\n",
    "            break\n",
    "    \n",
    "    if widget_name:\n",
    "        widget = widgets_dict[widget_name]\n",
    "        value = widget.value\n",
    "        widget_values[widget_name] = value  # Store user-entered value\n",
    "        \n",
    "        with output:\n",
    "            clear_output()\n",
    "            errors = []\n",
    "            try:\n",
    "                if item[\"type\"] != \"bool\" and value < 0:\n",
    "                    errors.append(f\"{widget_name}: Value cannot be negative\")\n",
    "                globals()[widget_name] = value\n",
    "            except (ValueError, TypeError):\n",
    "                errors.append(f\"{widget_name}: Invalid non-numeric input\")\n",
    "            \n",
    "            if errors:\n",
    "                print(\"Errors found:\")\n",
    "                for error in errors:\n",
    "                    print(f\"- {error}\")\n",
    "\n",
    "# Create widgets and set up observers\n",
    "for item in form_data:\n",
    "    label = widgets.Label(value=item[\"name\"])\n",
    "    # Use stored value if available, else default\n",
    "    initial_value = widget_values.get(item[\"name\"], item[\"value\"])\n",
    "    \n",
    "    if item[\"type\"] == \"bool\":\n",
    "        widget = widgets.Checkbox(value=initial_value, description=\"\", indent=False)\n",
    "    elif item[\"type\"] == \"int\":\n",
    "        widget = widgets.IntText(value=int(initial_value), description=\"\", layout={\"width\": \"100px\"})\n",
    "    else:  # float\n",
    "        widget = widgets.FloatText(value=float(initial_value), description=\"\", layout={\"width\": \"100px\"})\n",
    "    \n",
    "    unit = widgets.Label(value=item[\"unit\"])\n",
    "    widgets_dict[item[\"name\"]] = widget\n",
    "    item[\"row\"] = widgets.HBox([label, widget, unit], layout={\"margin\": \"5px\"})\n",
    "    \n",
    "    # Set initial global variable\n",
    "    globals()[item[\"name\"]] = widget.value\n",
    "    widget_values[item[\"name\"]] = widget.value  # Store initial value\n",
    "    \n",
    "    # Observe changes to sync global variables and validate\n",
    "    widget.observe(sync_globals, names=\"value\")\n",
    "\n",
    "# Organize widgets into sections\n",
    "sections = {\n",
    "    \"Column and Pad Dimensions\": [\n",
    "        \"column_depth\", \"pad_width_x\", \"pad_width_y\", \"pad_depth\",\n",
    "        \"dist_from_edge_x_direction\", \"dist_from_edge_y_direction\",\n",
    "        \"slab_engaged_rotation\", \"slab_engaged_uplift\"\n",
    "    ],\n",
    "    \"Reactions\": [\n",
    "        \"Rz_down\", \"Rz_uplift\", \"Rx_plus\", \"Rx_minus\",\n",
    "        \"Ry_plus_lngtnl_bracing\", \"Ry_minus_lngtnl_bracing\",\n",
    "        \"Rz_uplift_bracing\", \"My_plus\", \"My_minus\", \"Mx_plus\", \"Mx_minus\"\n",
    "    ],\n",
    "    \"Soil Properties\": [\n",
    "        \"gamma_1\", \"gamma_2\", \"phi_deg\", \"c\", \"c_coeff\", \"delta_deg\"\n",
    "    ],\n",
    "    \"Frame Dimensions\": [\n",
    "        \"frame_span\", \"frame_spacing\"\n",
    "    ],\n",
    "    \"Concrete Slab Properties\": [\n",
    "        \"slab_percentage\", \"slab_thickness\", \"slab_reinf_dist_top\",\n",
    "        \"slab_reinf_dist_btm\", \"slab_reinforcement_area_top\",\n",
    "        \"slab_reinforcement_area_btm\", \"slab_reinforcement_fy\",\n",
    "        \"slab_concrete_grade\", \"concrete_density\"\n",
    "    ]\n",
    "}\n",
    "\n",
    "# Create sectioned layout\n",
    "section_widgets = []\n",
    "for section_name, var_names in sections.items():\n",
    "    section_label = widgets.HTML(value=f\"<h3>{section_name}</h3>\")\n",
    "    section_rows = [next(item[\"row\"] for item in form_data if item[\"name\"] == var_name) for var_name in var_names]\n",
    "    section_widgets.append(widgets.VBox([section_label] + section_rows))\n",
    "\n",
    "# Display the form and output\n",
    "form = widgets.VBox(section_widgets + [output])\n",
    "display(form)"
   ]
  },
  {
   "cell_type": "code",
   "execution_count": 215,
   "id": "47114d6f",
   "metadata": {},
   "outputs": [],
   "source": [
    "# Point load to be specified within the marked area (below, quadrant [1]) or on it's borders.\n",
    "# Loading in [1] quadrant only,\n",
    "# Loading specified in absolute values but considering direction,\n",
    "# Loding CANNOT be specified in quadrants [2], [3] and [4],\n",
    "# RIGHT HAND RULE APPLIES:\n",
    "# x-axis is in the direction of the frame.\n",
    "# y-axis is in the longitudinal direction\n",
    "# z-axis is vertical, pointing up\n",
    "# Calculates stresses at [1] and [2] ([3] and [4] are not critical)\n",
    "# [4] ------^ +y-------[3]\n",
    "# ǀ         ǀ           ǀ\n",
    "# ǀ         ǀ[0,0]      ǀ\n",
    "#-----------x---------------> +x  +z pointing upwards\n",
    "# ǀ         ǀ           ǀ    \n",
    "# ǀ  x(Load)ǀ           ǀ\n",
    "# [1]-------ǀ----------[2] \n",
    "\n",
    "##column_depth = 0.400         #[m], depth of column\n",
    "##pad_width_x = 1.2           #[m], horizontal dimension of concrete pad (cross)\n",
    "##pad_width_y = 1.2           #[m], horizontal dimension of concrete pad (longitudinal)\n",
    "##pad_depth = 1.5            #[m], depth of pad (ignoring slab)\n",
    "\n",
    "##dist_from_edge_x_direction = 0.4     #[m], distance of column axis from the edge\n",
    "##dist_from_edge_y_direction = 0.4      #[m], distance of column axis from the edge\n",
    "\n",
    "##slab_engaged_rotation = True\n",
    "##slab_engaged_uplift = True\n",
    "\n",
    "# Reactions\n",
    "##Rz_down = 48.41                    #[kN]  from LGSF  \n",
    "##Rz_uplift = 39.39                  #[kN]  from LGSF\n",
    "##Rx_plus = 30.17                    #[kN]  from LGSF\n",
    "##Rx_minus = 30.17                   #[kN]  from LGSF\n",
    "##Ry_plus_lngtnl_bracing = 35.0      #[kN]  not calculated here  \n",
    "##Ry_minus_lngtnl_bracing = 35.0     #[kN]  not calculated here  \n",
    "##Rz_uplift_bracing = 20.0           #[kN]  not calculated here\n",
    "##My_plus = 50.0                     #[kNm] from LGSF\n",
    "##My_minus = 0.00                    #[kNm] from LGSF\n",
    "##Mx_plus = 0.00                     #[kNm] either zero or very small number in case of rigid bases\n",
    "##Mx_minus = 0.00                    #[kNm] either zero or very small number in case of rigid bases\n",
    "\n",
    "# Net allowable bearing pressure\n",
    "##p = 80  #[kPa]\n",
    "\n",
    "# Density of soil\n",
    "##gamma_1 = 20.0            #[kN/m^2]\n",
    "##gamma_2 = 20.0            #[kN/m^2]\n",
    "\n",
    "# friction angle\n",
    "##phi_deg = 18.0            #[deg]\n",
    "##phi_rad = phi_deg * math.pi/180\n",
    "\n",
    "# coefficient of cohesiveness\n",
    "##c = 18.00\n",
    "\n",
    "# coefficient for c variation\n",
    "##c_coeff = 2.0\n",
    "\n",
    "# load angle from vertical\n",
    "##delta_deg = 0                             #[deg]\n",
    "##delta_rad = delta_deg * math.pi/180\n",
    "\n",
    "# frame dimansions\n",
    "##frame_span = 14.0                         #[m]\n",
    "##frame_spacing = 5.0                       #[m]\n",
    "\n",
    "# concrete slab properties\n",
    "# Assuming mesh reinforcement\n",
    "\n",
    "##slab_percentage = 0.7\n",
    "##slab_thickness = 0.15                     #[m]\n",
    "##slab_reinf_dist_top = 0.05                #[m], axial distance of reinforcement from the top of the slab\n",
    "##slab_reinf_dist_btm = 0.05                #[m], axial distance of reinforcement from the btm of the slab\n",
    "##slab_reinforcement_area_top = 786.0       #[mm^2/m] \n",
    "##slab_reinforcement_area_btm = 786.0       #[mm^2/m]\n",
    "##slab_reinforcement_fy = 355000.0          #[kPa]\n",
    "##slab_concrete_grade = 25000.0             #[kPa]\n",
    "##concrete_density = 24.0                   #[kN/m^2]"
   ]
  },
  {
   "cell_type": "code",
   "execution_count": 216,
   "id": "3ccf9d8a",
   "metadata": {
    "hide_input": true
   },
   "outputs": [],
   "source": [
    "# Revise units\n",
    "slab_reinforcement_area_top = slab_reinforcement_area_top / 1000000       #[m^2/m] \n",
    "slab_reinforcement_area_btm = slab_reinforcement_area_btm / 1000000       #[m^2/m]"
   ]
  },
  {
   "cell_type": "markdown",
   "id": "cdd1e3ac",
   "metadata": {},
   "source": [
    "### Check data"
   ]
  },
  {
   "cell_type": "code",
   "execution_count": 217,
   "id": "1b445772",
   "metadata": {
    "hide_input": true
   },
   "outputs": [
    {
     "name": "stdout",
     "output_type": "stream",
     "text": [
      "Data OK\n"
     ]
    }
   ],
   "source": [
    "# Check data\n",
    "# Conservative approach (input data reduction) of dealing with sign convention of forces and load eccentricities.\n",
    "# Put all in one sense, possibly too conservative for some foundations.\n",
    "fail_data = False\n",
    "if dist_from_edge_x_direction > pad_width_x/2:\n",
    "    fail_data= True\n",
    "    print(\"Error in data, eccentricity in x direction is grater then half pad width in x direction.\")    \n",
    "if dist_from_edge_y_direction > pad_width_y/2:\n",
    "    fail_data= True\n",
    "    print(\"Error in data, eccentricity in x direction is grater then half pad width in x direction.\")\n",
    "    \n",
    "if column_depth > pad_width_x:\n",
    "    fail_data= True\n",
    "    print(\"Error in data, column depth is greater then the footing width.\")\n",
    "    \n",
    "if pad_depth < 0.8:\n",
    "    fail_data= True\n",
    "    print(\"Foundation depth is less then 80 cm freezing depth.\")\n",
    "    \n",
    "if pad_depth > 3.0:\n",
    "    fail_data= True\n",
    "    print(\"Error in data. The depth of foundation seems to be too high.\")\n",
    "    \n",
    "if pad_width_x < 0.3:\n",
    "    print(\"Error in data. Width of foundation too low.\")\n",
    "\n",
    "if pad_width_y < 0.3:\n",
    "    print(\"Error in data. Width of foundation too low.\")\n",
    "\n",
    "if pad_width_x > 2.0:\n",
    "    print(\"Error in data. Width of foundation too high.\")\n",
    "\n",
    "if pad_width_y > 2.0:\n",
    "    print(\"Error in data. Width of foundation too high.\")\n",
    "    \n",
    "if slab_thickness < 0.1:\n",
    "    print(\"Error in data. Slab thickness is too low.\")\n",
    "\n",
    "if slab_thickness > 0.5:\n",
    "    print(\"Error in data. Slab thickness is too high.\")\n",
    "    \n",
    "if slab_reinf_dist_top < 0.02:\n",
    "    print(\"Error in data. Distance of reinforcement from surface seems to be too low. Check also minimum cover.\")\n",
    "    \n",
    "if slab_reinf_dist_btm < 0.02:\n",
    "    print(\"Error in data. Distance of reinforcement from surface seems to be too low. Check also minimum cover.\")\n",
    "    \n",
    "if fail_data == False:\n",
    "    print(\"Data OK\")"
   ]
  },
  {
   "cell_type": "markdown",
   "id": "c16cbfa0-8fbe-4cf7-abbd-f010c57ca76c",
   "metadata": {},
   "source": [
    "### Soil parameters"
   ]
  },
  {
   "cell_type": "code",
   "execution_count": 218,
   "id": "53be19e6",
   "metadata": {},
   "outputs": [],
   "source": [
    "cd = c / c_coeff\n",
    "\n",
    "# area of foundation\n",
    "A = pad_width_x * pad_width_y\n",
    "\n",
    "\n",
    "Nd = (math.tan(45 * math.pi/180.0 + 0.5*phi_rad)**(2)) * (math.exp(math.pi * math.tan(phi_rad)))\n",
    "Nc = (Nd - 1) / math.tan(phi_rad)\n",
    "Nb = 1.5 * (Nd - 1) * math.tan(phi_rad)\n",
    "\n",
    "b = pad_width_x     # x direction\n",
    "l = pad_width_y      # y direction\n",
    "d = pad_depth\n",
    "\n",
    "# coefficient of pad foundation dimensions\n",
    "sc = 1 + 0.2 * b/l\n",
    "sd = 1 + b/l * math.sin(phi_rad)\n",
    "sb = 1 - 0.3 * b/l\n",
    "\n",
    "# coefficient of pad foundation depth\n",
    "dc = 1 + 0.1 * math.sqrt(d/b)\n",
    "dd = 1 + 0.1 * math.sqrt(d/b * math.sin(2 * phi_rad))\n",
    "db = 1.0\n",
    "\n",
    "# coefficient for inclined load direction\n",
    "ic = (1 - math.tan(delta_rad))**(2)\n",
    "id = ic\n",
    "ib = ic\n",
    "\n",
    "# Design strength of soil\n",
    "Rd = cd * Nc * sc * dc * ic + gamma_1 * d * Nd * sd * dd * id + gamma_2 * 0.5 * b * Nb * sb * db * ib"
   ]
  },
  {
   "cell_type": "code",
   "execution_count": 219,
   "id": "a0b885ba",
   "metadata": {
    "hide_input": false
   },
   "outputs": [
    {
     "name": "stdout",
     "output_type": "stream",
     "text": [
      "cd                                =  9.00  [-]\n",
      "ic                                =  1.00  [-]\n",
      "id                                =  1.00  [-]\n",
      "ib                                =  1.00  [-]\n",
      "Nc                                =  13.10  [-]\n",
      "Nd                                =  5.26  [-]\n",
      "Nb                                =  2.08  [-]\n",
      "sc                                =  1.20  [-]\n",
      "sd                                =  1.31  [-]\n",
      "sb                                =  0.70  [-]\n",
      "Rd                                =  318.40  [kPa]\n"
     ]
    }
   ],
   "source": [
    "print(\"cd                                = \", (\"%2.2f\" % cd), \" [-]\")\n",
    "print(\"ic                                = \", (\"%2.2f\" % ic), \" [-]\")\n",
    "print(\"id                                = \", (\"%2.2f\" % id), \" [-]\")\n",
    "print(\"ib                                = \", (\"%2.2f\" % ib), \" [-]\")\n",
    "print(\"Nc                                = \", (\"%2.2f\" % Nc), \" [-]\")\n",
    "print(\"Nd                                = \", (\"%2.2f\" % Nd), \" [-]\")\n",
    "print(\"Nb                                = \", (\"%2.2f\" % Nb), \" [-]\")\n",
    "print(\"sc                                = \", (\"%2.2f\" % sc), \" [-]\")\n",
    "print(\"sd                                = \", (\"%2.2f\" % sd), \" [-]\")\n",
    "print(\"sb                                = \", (\"%2.2f\" % sb), \" [-]\")\n",
    "print(\"Rd                                = \", (\"%2.2f\" % Rd), \" [kPa]\")"
   ]
  },
  {
   "cell_type": "markdown",
   "id": "0a656bf6",
   "metadata": {},
   "source": [
    "### Check stress at contact"
   ]
  },
  {
   "cell_type": "code",
   "execution_count": 220,
   "id": "5a5505bc-c4f0-4de4-89fb-e3dd4dcb4645",
   "metadata": {},
   "outputs": [],
   "source": [
    "weight_pad = concrete_density * pad_width_x * pad_width_y * pad_depth\n",
    "sigma_pad = weight_pad / (pad_width_x * pad_width_y)\n",
    "\n",
    "weight_slab = 0\n",
    "if slab_engaged_uplift:\n",
    "    weight_slab = slab_percentage * (0.5 * frame_span * frame_spacing) * slab_thickness * concrete_density\n",
    "\n",
    "ex = pad_width_x / 2 - dist_from_edge_x_direction\n",
    "ey = pad_width_y / 2 - dist_from_edge_y_direction\n",
    "\n",
    "# use envelopes of forces\n",
    "Rx = max(Rx_plus,Rx_minus)\n",
    "Ry = max(Ry_plus_lngtnl_bracing, Ry_minus_lngtnl_bracing)\n",
    "Rz = Rz_down\n",
    "Mx = max(Mx_plus,Mx_minus)\n",
    "My = max(My_plus,My_minus)\n",
    "sigma_Rx = Rx * pad_depth / (pad_width_x**2 * pad_width_y / 6)\n",
    "sigma_Ry = Ry * pad_depth / (pad_width_x * pad_width_y**2 / 6) \n",
    "sigma_Rz = Rz / (pad_width_x * pad_width_y)\n",
    "sigma_Rz = sigma_Rz + Rz * ex / (pad_width_x**2 * pad_width_y / 6)\n",
    "sigma_Rz = sigma_Rz + Rz * ey / (pad_width_x * pad_width_y**2 / 6)\n",
    "sigma_Mx = Mx * dist_from_edge_y_direction / pad_width_y\n",
    "sigma_My = My * dist_from_edge_x_direction / pad_width_x\n",
    "\n",
    "stress = sigma_Rx + sigma_Ry + sigma_Rz + sigma_Mx + sigma_My"
   ]
  },
  {
   "cell_type": "code",
   "execution_count": 221,
   "id": "34e09efd-5e99-4196-afc4-453c58a4f5a2",
   "metadata": {},
   "outputs": [
    {
     "name": "stdout",
     "output_type": "stream",
     "text": [
      "weight_pad                        =  24.00  [kN]\n",
      "weight_slab                       =  88.20  [kN]\n",
      "sigma_pad                         =  24.00  [kPa]\n",
      "sigma_Rx        = Rx * pad_depth / (pad_width_x**2 * pad_width_y / 6)\n",
      "sigma_Ry        = Ry * pad_depth / (pad_width_x * pad_width_y**2 / 6)\n",
      "sigma_Rz        = Rz / (pad_width_x * pad_width_y)\n",
      "sigma_Rz        = sigma_Rz + Rz * ex / (pad_width_x**2 * pad_width_y / 6)\n",
      "sigma_Rz        = sigma_Rz + Rz * ey / (pad_width_x * pad_width_y**2 / 6)\n",
      "sigma_Mx        = Mx * dist_from_edge_y_direction / pad_width_y\n",
      "sigma_My        = My * dist_from_edge_x_direction / pad_width_x\n",
      "sigma_Rx                          =  72.00  [kPa]\n",
      "sigma_Ry                          =  120.00  [kPa]\n",
      "sigma_Rz                          =  110.00  [kPa]\n",
      "sigma_Mx                          =  0.00  [kPa]\n",
      "sigma_My                          =  0.00  [kPa]\n",
      "stress                            =  302.00  [kPa]\n"
     ]
    }
   ],
   "source": [
    "print(\"weight_pad                        = \", (\"%2.2f\" % weight_pad), \" [kN]\")\n",
    "print(\"weight_slab                       = \", (\"%2.2f\" % weight_slab), \" [kN]\")\n",
    "print(\"sigma_pad                         = \", (\"%2.2f\" % sigma_pad), \" [kPa]\")\n",
    "print(\"sigma_Rx        = Rx * pad_depth / (pad_width_x**2 * pad_width_y / 6)\")\n",
    "print(\"sigma_Ry        = Ry * pad_depth / (pad_width_x * pad_width_y**2 / 6)\") \n",
    "print(\"sigma_Rz        = Rz / (pad_width_x * pad_width_y)\")\n",
    "print(\"sigma_Rz        = sigma_Rz + Rz * ex / (pad_width_x**2 * pad_width_y / 6)\")\n",
    "print(\"sigma_Rz        = sigma_Rz + Rz * ey / (pad_width_x * pad_width_y**2 / 6)\")\n",
    "print(\"sigma_Mx        = Mx * dist_from_edge_y_direction / pad_width_y\")\n",
    "print(\"sigma_My        = My * dist_from_edge_x_direction / pad_width_x\")\n",
    "print(\"sigma_Rx                          = \", (\"%2.2f\" % sigma_Rx), \" [kPa]\")\n",
    "print(\"sigma_Ry                          = \", (\"%2.2f\" % sigma_Ry), \" [kPa]\")\n",
    "print(\"sigma_Rz                          = \", (\"%2.2f\" % sigma_Rz), \" [kPa]\")\n",
    "print(\"sigma_Mx                          = \", (\"%2.2f\" % sigma_Mx), \" [kPa]\")\n",
    "print(\"sigma_My                          = \", (\"%2.2f\" % sigma_My), \" [kPa]\")\n",
    "\n",
    "print(\"stress                            = \", (\"%2.2f\" % stress), \" [kPa]\")"
   ]
  },
  {
   "cell_type": "code",
   "execution_count": 222,
   "id": "199a950e",
   "metadata": {
    "hide_input": false
   },
   "outputs": [
    {
     "name": "stdout",
     "output_type": "stream",
     "text": [
      "PASS\n"
     ]
    }
   ],
   "source": [
    "\n",
    "UF_stress = stress / Rd\n",
    "\n",
    "if UF_stress > 1.0:\n",
    "    fail_stress = True\n",
    "    print(\"FAIL\")\n",
    "else:\n",
    "    fail_stress = False\n",
    "    print(\"PASS\")"
   ]
  },
  {
   "cell_type": "code",
   "execution_count": 223,
   "id": "85a4c579-8334-43e2-93dd-8e0016ecfae4",
   "metadata": {},
   "outputs": [
    {
     "name": "stdout",
     "output_type": "stream",
     "text": [
      "UF_stress                         =  0.95  [-]\n",
      "Stress check PASSED. Utilization is 94.85%\n"
     ]
    }
   ],
   "source": [
    "print(\"UF_stress                         = \", (\"%2.2f\" % UF_stress), \" [-]\")\n",
    "\n",
    "if fail_stress == True:\n",
    "    print (\"Stress check FAILED. Utilization is \" + str(round(100 * UF_stress,2)) + \"%\")\n",
    "else:\n",
    "    print (\"Stress check PASSED. Utilization is \" + str(round(100 * UF_stress,2)) + \"%\")"
   ]
  },
  {
   "cell_type": "markdown",
   "id": "b87a3509",
   "metadata": {},
   "source": [
    "### Check uplift"
   ]
  },
  {
   "cell_type": "code",
   "execution_count": 224,
   "id": "750c46c8",
   "metadata": {
    "hide_input": true
   },
   "outputs": [],
   "source": [
    "if slab_engaged_uplift == True:\n",
    "    UF_uplift = (Rz_uplift + Rz_uplift_bracing) / (weight_pad + weight_slab) \n",
    "else:\n",
    "    UF_uplift = (Rz_uplift + Rz_uplift_bracing) / weight_pad \n",
    "  \n",
    "    \n",
    "if UF_uplift > 1.0:\n",
    "    fail_uplift = True\n",
    "else:\n",
    "    fail_uplift = False    "
   ]
  },
  {
   "cell_type": "code",
   "execution_count": 225,
   "id": "60c862a3",
   "metadata": {
    "hide_input": true
   },
   "outputs": [
    {
     "name": "stdout",
     "output_type": "stream",
     "text": [
      "weight_pad                        =  24.00  [kN]\n",
      "weight_slab                       =  88.20  [kN]\n",
      "UF_uplift                         =  0.49  [-]\n",
      "Uplift check PASSED. Utilization is 49.02%\n"
     ]
    }
   ],
   "source": [
    "print(\"weight_pad                        = \", (\"%2.2f\" % weight_pad), \" [kN]\")\n",
    "print(\"weight_slab                       = \", (\"%2.2f\" % weight_slab), \" [kN]\")\n",
    "print(\"UF_uplift                         = \", (\"%2.2f\" % UF_uplift), \" [-]\")\n",
    "\n",
    "if fail_uplift == True:\n",
    "    print (\"Uplift check FAILED. Utilization is \" + str(round(100 * UF_uplift,2)) + \"%\")\n",
    "else:\n",
    "    print (\"Uplift check PASSED. Utilization is \" + str(round(100 * UF_uplift,2)) + \"%\")"
   ]
  },
  {
   "cell_type": "markdown",
   "id": "f3978e5a",
   "metadata": {},
   "source": [
    "### Check slab reinforcement (if engaged)"
   ]
  },
  {
   "cell_type": "code",
   "execution_count": 226,
   "id": "f8887c1f",
   "metadata": {
    "hide_input": true
   },
   "outputs": [],
   "source": [
    "if slab_engaged_rotation == True:\n",
    "    fcd = slab_concrete_grade\n",
    "    fy = slab_reinforcement_fy\n",
    "    b_eff = frame_span / 4\n",
    "    Na_top = fy * slab_reinforcement_area_top * pad_width_x\n",
    "    Na_btm = fy * slab_reinforcement_area_btm * pad_width_x\n",
    "    x_top = Na_top / 0.85 / fcd / b_eff\n",
    "    x_btm = Na_btm / 0.85 / fcd / b_eff\n",
    "    # lever arm\n",
    "    z_hogging = slab_thickness - 0.5 * x_top - slab_reinf_dist_btm\n",
    "    z_sagging = slab_thickness - 0.5 * x_btm - slab_reinf_dist_top\n",
    "    M_Rd_slab_hogging = Na_btm * z_hogging\n",
    "    M_Rd_slab_sagging = Na_top * z_sagging\n",
    "    #\n",
    "    #...now, let's assume envelope, may be conservative but avoids confusion\n",
    "    M_Rd_slab = min(M_Rd_slab_hogging, M_Rd_slab_sagging)\n",
    "    "
   ]
  },
  {
   "cell_type": "code",
   "execution_count": 227,
   "id": "8ddc78fa",
   "metadata": {
    "hide_input": true
   },
   "outputs": [
    {
     "name": "stdout",
     "output_type": "stream",
     "text": [
      "Slab is considered not to be rotationally engaged.\n"
     ]
    }
   ],
   "source": [
    "if slab_engaged_rotation == True:\n",
    "    print(\"fcd                               = \", (\"%2.2f\" % fcd), \" [kPa]\")\n",
    "    print(\"b_eff                             = \", (\"%2.2f\" % b_eff), \" [m]\")\n",
    "    print(\"Na_top                            = \", (\"%2.2f\" % Na_top), \" [kN]\")\n",
    "    print(\"Na_btm                            = \", (\"%2.2f\" % Na_btm), \" [kN]\")\n",
    "    print(\"x_top                             = \", (\"%2.4f\" % x_top), \" [m]\")\n",
    "    print(\"x_btm                             = \", (\"%2.4f\" % x_btm), \" [m]\")\n",
    "    print(\"z_hogging                         = \", (\"%2.2f\" % z_hogging), \" [m]\")\n",
    "    print(\"z_sagging                         = \", (\"%2.2f\" % z_sagging), \" [m]\")\n",
    "    print(\"M_Rd_slab_hogging                 = \", (\"%2.2f\" % M_Rd_slab_hogging), \" [kNm]\")\n",
    "    print(\"M_Rd_slab_sagging                 = \", (\"%2.2f\" % M_Rd_slab_sagging), \" [kNm]\")\n",
    "    print(\"M_Rd_slab                         = \", (\"%2.2f\" % M_Rd_slab), \" [kNm]\")\n",
    "else:\n",
    "    print(\"Slab is considered not to be rotationally engaged.\")"
   ]
  },
  {
   "cell_type": "code",
   "execution_count": 228,
   "id": "915bcf85",
   "metadata": {
    "hide_input": true
   },
   "outputs": [],
   "source": [
    "# Check moment resistance of slab\n",
    "# Assuming mesh reinforcement\n",
    "if slab_engaged_rotation == True:\n",
    "    M = max(My_plus, My_minus, Mx_plus, Mx_minus)\n",
    "    UF_reinforcement = M / M_Rd_slab\n",
    "\n",
    "    if UF_reinforcement > 1.0:\n",
    "        fail_reinforcement = True\n",
    "    else:\n",
    "        fail_reinforcement = False    "
   ]
  },
  {
   "cell_type": "code",
   "execution_count": 229,
   "id": "7ccafbd5",
   "metadata": {
    "hide_input": false
   },
   "outputs": [],
   "source": [
    "if slab_engaged_rotation == True:\n",
    "    print(\"UF_reinforcement                  = \", (\"%2.2f\" % UF_reinforcement), \" [-]\")\n",
    "    if fail_reinforcement == True:\n",
    "        print (\"Reinforcement check FAILED. Utilization is \" + str(round(100 * UF_reinforcement,2)) + \"%\")\n",
    "    else:\n",
    "        print (\"Reinforcement check PASSED. Utilization is \" + str(round(100 * UF_reinforcement,2)) + \"%\")"
   ]
  }
 ],
 "metadata": {
  "hide_input": false,
  "kernelspec": {
   "display_name": "Python 3 (ipykernel)",
   "language": "python",
   "name": "python3"
  },
  "language_info": {
   "codemirror_mode": {
    "name": "ipython",
    "version": 3
   },
   "file_extension": ".py",
   "mimetype": "text/x-python",
   "name": "python",
   "nbconvert_exporter": "python",
   "pygments_lexer": "ipython3",
   "version": "3.13.2"
  },
  "varInspector": {
   "cols": {
    "lenName": 16,
    "lenType": 16,
    "lenVar": 40
   },
   "kernels_config": {
    "python": {
     "delete_cmd_postfix": "",
     "delete_cmd_prefix": "del ",
     "library": "var_list.py",
     "varRefreshCmd": "print(var_dic_list())"
    },
    "r": {
     "delete_cmd_postfix": ") ",
     "delete_cmd_prefix": "rm(",
     "library": "var_list.r",
     "varRefreshCmd": "cat(var_dic_list()) "
    }
   },
   "types_to_exclude": [
    "module",
    "function",
    "builtin_function_or_method",
    "instance",
    "_Feature"
   ],
   "window_display": false
  }
 },
 "nbformat": 4,
 "nbformat_minor": 5
}
